{
 "cells": [
  {
   "cell_type": "markdown",
   "metadata": {},
   "source": [
    "DATABASE ALBUMS"
   ]
  },
  {
   "cell_type": "code",
   "execution_count": 1,
   "metadata": {},
   "outputs": [],
   "source": [
    "import pandas as pd\n",
    "\n",
    "\n",
    "import warnings\n",
    "warnings.filterwarnings('ignore')"
   ]
  },
  {
   "cell_type": "code",
   "execution_count": 2,
   "metadata": {},
   "outputs": [],
   "source": [
    "#Descargo los datos del database\n",
    "\n",
    "albums = pd.read_csv('../csv/top_albums.csv')"
   ]
  },
  {
   "cell_type": "markdown",
   "metadata": {},
   "source": [
    "# Parte 1 \n",
    "\n",
    "Ver a que nos enfrentamos para luego comenzar la limpieza\n"
   ]
  },
  {
   "cell_type": "code",
   "execution_count": 3,
   "metadata": {},
   "outputs": [
    {
     "name": "stdout",
     "output_type": "stream",
     "text": [
      "<class 'pandas.core.frame.DataFrame'>\n",
      "RangeIndex: 320 entries, 0 to 319\n",
      "Data columns (total 9 columns):\n",
      " #   Column                  Non-Null Count  Dtype \n",
      "---  ------                  --------------  ----- \n",
      " 0   Year                    320 non-null    int64 \n",
      " 1   Ranking                 320 non-null    int64 \n",
      " 2   Artist                  320 non-null    object\n",
      " 3   Album                   320 non-null    object\n",
      " 4   Worldwide Sales (Est.)  320 non-null    object\n",
      " 5   CDs                     320 non-null    int64 \n",
      " 6   Tracks                  320 non-null    int64 \n",
      " 7   Album Length            320 non-null    object\n",
      " 8   Genre                   320 non-null    object\n",
      "dtypes: int64(4), object(5)\n",
      "memory usage: 22.6+ KB\n"
     ]
    }
   ],
   "source": [
    "albums.info()"
   ]
  },
  {
   "cell_type": "code",
   "execution_count": 4,
   "metadata": {},
   "outputs": [
    {
     "data": {
      "text/html": [
       "<div>\n",
       "<style scoped>\n",
       "    .dataframe tbody tr th:only-of-type {\n",
       "        vertical-align: middle;\n",
       "    }\n",
       "\n",
       "    .dataframe tbody tr th {\n",
       "        vertical-align: top;\n",
       "    }\n",
       "\n",
       "    .dataframe thead th {\n",
       "        text-align: right;\n",
       "    }\n",
       "</style>\n",
       "<table border=\"1\" class=\"dataframe\">\n",
       "  <thead>\n",
       "    <tr style=\"text-align: right;\">\n",
       "      <th></th>\n",
       "      <th>count</th>\n",
       "      <th>mean</th>\n",
       "      <th>std</th>\n",
       "      <th>min</th>\n",
       "      <th>25%</th>\n",
       "      <th>50%</th>\n",
       "      <th>75%</th>\n",
       "      <th>max</th>\n",
       "    </tr>\n",
       "  </thead>\n",
       "  <tbody>\n",
       "    <tr>\n",
       "      <th>Year</th>\n",
       "      <td>320.0</td>\n",
       "      <td>2005.50000</td>\n",
       "      <td>9.247553</td>\n",
       "      <td>1990.0</td>\n",
       "      <td>1997.75</td>\n",
       "      <td>2005.5</td>\n",
       "      <td>2013.25</td>\n",
       "      <td>2021.0</td>\n",
       "    </tr>\n",
       "    <tr>\n",
       "      <th>Ranking</th>\n",
       "      <td>320.0</td>\n",
       "      <td>5.50000</td>\n",
       "      <td>2.876780</td>\n",
       "      <td>1.0</td>\n",
       "      <td>3.00</td>\n",
       "      <td>5.5</td>\n",
       "      <td>8.00</td>\n",
       "      <td>10.0</td>\n",
       "    </tr>\n",
       "    <tr>\n",
       "      <th>CDs</th>\n",
       "      <td>320.0</td>\n",
       "      <td>1.04375</td>\n",
       "      <td>0.246528</td>\n",
       "      <td>1.0</td>\n",
       "      <td>1.00</td>\n",
       "      <td>1.0</td>\n",
       "      <td>1.00</td>\n",
       "      <td>4.0</td>\n",
       "    </tr>\n",
       "    <tr>\n",
       "      <th>Tracks</th>\n",
       "      <td>320.0</td>\n",
       "      <td>14.30625</td>\n",
       "      <td>5.868995</td>\n",
       "      <td>6.0</td>\n",
       "      <td>12.00</td>\n",
       "      <td>13.0</td>\n",
       "      <td>15.00</td>\n",
       "      <td>67.0</td>\n",
       "    </tr>\n",
       "  </tbody>\n",
       "</table>\n",
       "</div>"
      ],
      "text/plain": [
       "         count        mean       std     min      25%     50%      75%     max\n",
       "Year     320.0  2005.50000  9.247553  1990.0  1997.75  2005.5  2013.25  2021.0\n",
       "Ranking  320.0     5.50000  2.876780     1.0     3.00     5.5     8.00    10.0\n",
       "CDs      320.0     1.04375  0.246528     1.0     1.00     1.0     1.00     4.0\n",
       "Tracks   320.0    14.30625  5.868995     6.0    12.00    13.0    15.00    67.0"
      ]
     },
     "execution_count": 4,
     "metadata": {},
     "output_type": "execute_result"
    }
   ],
   "source": [
    "albums.describe().T"
   ]
  },
  {
   "cell_type": "code",
   "execution_count": 5,
   "metadata": {},
   "outputs": [
    {
     "data": {
      "text/plain": [
       "Year                       int64\n",
       "Ranking                    int64\n",
       "Artist                    object\n",
       "Album                     object\n",
       "Worldwide Sales (Est.)    object\n",
       "CDs                        int64\n",
       "Tracks                     int64\n",
       "Album Length              object\n",
       "Genre                     object\n",
       "dtype: object"
      ]
     },
     "execution_count": 5,
     "metadata": {},
     "output_type": "execute_result"
    }
   ],
   "source": [
    "albums.dtypes"
   ]
  },
  {
   "cell_type": "markdown",
   "metadata": {},
   "source": [
    "# Parte 2\n",
    "\n",
    "Limpieza en base a nuestra busqueda\n"
   ]
  },
  {
   "cell_type": "code",
   "execution_count": 6,
   "metadata": {},
   "outputs": [
    {
     "data": {
      "text/plain": [
       "array([2014, 1990, 1997, 2009, 1991, 1992, 1993, 1995, 1998, 2002, 2005,\n",
       "       2006, 2007, 2008, 2010, 2013, 2015, 2017, 2019, 2021, 1996, 2000,\n",
       "       2003, 2004, 2011, 2016, 2018, 2020, 1994, 1999, 2001, 2012],\n",
       "      dtype=int64)"
      ]
     },
     "execution_count": 6,
     "metadata": {},
     "output_type": "execute_result"
    }
   ],
   "source": [
    "albums['Year'].unique()"
   ]
  },
  {
   "cell_type": "code",
   "execution_count": 7,
   "metadata": {},
   "outputs": [],
   "source": [
    "#Ordenar Year de menor a mayor\n",
    "albums = albums.sort_values('Year')\n"
   ]
  },
  {
   "cell_type": "code",
   "execution_count": 8,
   "metadata": {},
   "outputs": [],
   "source": [
    "# Columna rankings\n",
    "albums = albums[albums['Ranking'] <= 3]\n"
   ]
  },
  {
   "cell_type": "code",
   "execution_count": 9,
   "metadata": {},
   "outputs": [],
   "source": [
    "#Ordeno ranking de menor a mayor por ano. Tengo unicamente los datos del top3\n",
    "albums = albums.sort_values(by=['Year', 'Ranking'], ascending=[True, True])"
   ]
  },
  {
   "cell_type": "code",
   "execution_count": 10,
   "metadata": {},
   "outputs": [
    {
     "data": {
      "text/plain": [
       "Series([], dtype: int64)"
      ]
     },
     "execution_count": 10,
     "metadata": {},
     "output_type": "execute_result"
    }
   ],
   "source": [
    "#Chequeo que mi database no tenga valores nulos\n",
    "nan_cols = albums.isna().sum()\n",
    "\n",
    "nan_cols[nan_cols>0]"
   ]
  },
  {
   "cell_type": "code",
   "execution_count": 11,
   "metadata": {},
   "outputs": [
    {
     "data": {
      "text/plain": [
       "False"
      ]
     },
     "execution_count": 11,
     "metadata": {},
     "output_type": "execute_result"
    }
   ],
   "source": [
    "# Y que no tenga filas repetidas\n",
    "duplicadas = albums.duplicated().any()\n",
    "duplicadas"
   ]
  },
  {
   "cell_type": "code",
   "execution_count": 12,
   "metadata": {},
   "outputs": [],
   "source": [
    "#Renombro la columna de sales\n",
    "albums = albums.rename(columns={'Worldwide Sales (Est.)': 'Worldwide Sales'})"
   ]
  },
  {
   "cell_type": "code",
   "execution_count": 13,
   "metadata": {},
   "outputs": [],
   "source": [
    "#Borro la columna album length\n",
    "albums = albums.drop('Album Length', axis=1)"
   ]
  },
  {
   "cell_type": "code",
   "execution_count": 14,
   "metadata": {},
   "outputs": [],
   "source": [
    "#Reseteo el index \n",
    "albums = albums.reset_index(drop=True)\n",
    "\n"
   ]
  },
  {
   "cell_type": "code",
   "execution_count": 15,
   "metadata": {},
   "outputs": [],
   "source": [
    "#Cambio nombres de artistas que me dan error para scrapear en wikipedia\n",
    "nombres = {'Drake': 'Drake_(músico)',\n",
    "    'Movie Soundtrack': 'Robert_Lopez',\n",
    "    'Nirvana': 'Nirvana_(banda)',\n",
    "    'New Kids On The Block': 'New_Kids_on_the_Block',\n",
    "    'Ace Of Base': 'Ace_of_Base',\n",
    "    'Oasis': 'Oasis_(banda)',\n",
    "    'Brandy': 'Brandy_Norwood',\n",
    "    'Santana': 'Santana_(banda)',\n",
    "    'NCT Dream': 'Mark_Lee'\n",
    "\n",
    "    }\n",
    "\n",
    "albums['Artist'] = albums['Artist'].replace(nombres)"
   ]
  },
  {
   "cell_type": "code",
   "execution_count": 16,
   "metadata": {},
   "outputs": [
    {
     "data": {
      "text/html": [
       "<div>\n",
       "<style scoped>\n",
       "    .dataframe tbody tr th:only-of-type {\n",
       "        vertical-align: middle;\n",
       "    }\n",
       "\n",
       "    .dataframe tbody tr th {\n",
       "        vertical-align: top;\n",
       "    }\n",
       "\n",
       "    .dataframe thead th {\n",
       "        text-align: right;\n",
       "    }\n",
       "</style>\n",
       "<table border=\"1\" class=\"dataframe\">\n",
       "  <thead>\n",
       "    <tr style=\"text-align: right;\">\n",
       "      <th></th>\n",
       "      <th>Year</th>\n",
       "      <th>Ranking</th>\n",
       "      <th>Artist</th>\n",
       "      <th>Album</th>\n",
       "      <th>Worldwide Sales</th>\n",
       "      <th>CDs</th>\n",
       "      <th>Tracks</th>\n",
       "      <th>Genre</th>\n",
       "    </tr>\n",
       "  </thead>\n",
       "  <tbody>\n",
       "    <tr>\n",
       "      <th>0</th>\n",
       "      <td>1990</td>\n",
       "      <td>1</td>\n",
       "      <td>Madonna</td>\n",
       "      <td>The Immaculate Collection</td>\n",
       "      <td>30,000,000</td>\n",
       "      <td>1</td>\n",
       "      <td>17</td>\n",
       "      <td>Pop</td>\n",
       "    </tr>\n",
       "    <tr>\n",
       "      <th>1</th>\n",
       "      <td>1990</td>\n",
       "      <td>2</td>\n",
       "      <td>New_Kids_on_the_Block</td>\n",
       "      <td>Step By Step</td>\n",
       "      <td>20,000,000</td>\n",
       "      <td>1</td>\n",
       "      <td>12</td>\n",
       "      <td>Pop</td>\n",
       "    </tr>\n",
       "    <tr>\n",
       "      <th>2</th>\n",
       "      <td>1990</td>\n",
       "      <td>3</td>\n",
       "      <td>Garth Brooks</td>\n",
       "      <td>No Fences</td>\n",
       "      <td>18,770,000</td>\n",
       "      <td>1</td>\n",
       "      <td>10</td>\n",
       "      <td>Country</td>\n",
       "    </tr>\n",
       "    <tr>\n",
       "      <th>3</th>\n",
       "      <td>1991</td>\n",
       "      <td>1</td>\n",
       "      <td>Metallica</td>\n",
       "      <td>Metallica</td>\n",
       "      <td>33,000,000</td>\n",
       "      <td>1</td>\n",
       "      <td>12</td>\n",
       "      <td>Rock</td>\n",
       "    </tr>\n",
       "    <tr>\n",
       "      <th>4</th>\n",
       "      <td>1991</td>\n",
       "      <td>2</td>\n",
       "      <td>Nirvana_(banda)</td>\n",
       "      <td>Nevermind</td>\n",
       "      <td>30,000,000</td>\n",
       "      <td>1</td>\n",
       "      <td>13</td>\n",
       "      <td>Rock</td>\n",
       "    </tr>\n",
       "    <tr>\n",
       "      <th>...</th>\n",
       "      <td>...</td>\n",
       "      <td>...</td>\n",
       "      <td>...</td>\n",
       "      <td>...</td>\n",
       "      <td>...</td>\n",
       "      <td>...</td>\n",
       "      <td>...</td>\n",
       "      <td>...</td>\n",
       "    </tr>\n",
       "    <tr>\n",
       "      <th>91</th>\n",
       "      <td>2020</td>\n",
       "      <td>2</td>\n",
       "      <td>BTS</td>\n",
       "      <td>Be</td>\n",
       "      <td>5,397,015</td>\n",
       "      <td>1</td>\n",
       "      <td>8</td>\n",
       "      <td>Pop</td>\n",
       "    </tr>\n",
       "    <tr>\n",
       "      <th>92</th>\n",
       "      <td>2020</td>\n",
       "      <td>3</td>\n",
       "      <td>Pop Smoke</td>\n",
       "      <td>Shoot For The Stars, Aim For The Moon</td>\n",
       "      <td>4,777,389</td>\n",
       "      <td>1</td>\n",
       "      <td>19</td>\n",
       "      <td>Hip Hop</td>\n",
       "    </tr>\n",
       "    <tr>\n",
       "      <th>93</th>\n",
       "      <td>2021</td>\n",
       "      <td>1</td>\n",
       "      <td>Adele</td>\n",
       "      <td>30</td>\n",
       "      <td>4,485,025</td>\n",
       "      <td>1</td>\n",
       "      <td>12</td>\n",
       "      <td>Pop</td>\n",
       "    </tr>\n",
       "    <tr>\n",
       "      <th>94</th>\n",
       "      <td>2021</td>\n",
       "      <td>2</td>\n",
       "      <td>Olivia Rodrigo</td>\n",
       "      <td>Sour</td>\n",
       "      <td>3,830,500</td>\n",
       "      <td>1</td>\n",
       "      <td>11</td>\n",
       "      <td>Pop</td>\n",
       "    </tr>\n",
       "    <tr>\n",
       "      <th>95</th>\n",
       "      <td>2021</td>\n",
       "      <td>3</td>\n",
       "      <td>Mark_Lee</td>\n",
       "      <td>Hot Sauce</td>\n",
       "      <td>3,633,287</td>\n",
       "      <td>1</td>\n",
       "      <td>10</td>\n",
       "      <td>Pop</td>\n",
       "    </tr>\n",
       "  </tbody>\n",
       "</table>\n",
       "<p>96 rows × 8 columns</p>\n",
       "</div>"
      ],
      "text/plain": [
       "    Year  Ranking                 Artist  \\\n",
       "0   1990        1                Madonna   \n",
       "1   1990        2  New_Kids_on_the_Block   \n",
       "2   1990        3           Garth Brooks   \n",
       "3   1991        1              Metallica   \n",
       "4   1991        2        Nirvana_(banda)   \n",
       "..   ...      ...                    ...   \n",
       "91  2020        2                    BTS   \n",
       "92  2020        3              Pop Smoke   \n",
       "93  2021        1                  Adele   \n",
       "94  2021        2         Olivia Rodrigo   \n",
       "95  2021        3               Mark_Lee   \n",
       "\n",
       "                                    Album Worldwide Sales  CDs  Tracks  \\\n",
       "0               The Immaculate Collection      30,000,000    1      17   \n",
       "1                            Step By Step      20,000,000    1      12   \n",
       "2                               No Fences      18,770,000    1      10   \n",
       "3                               Metallica      33,000,000    1      12   \n",
       "4                               Nevermind      30,000,000    1      13   \n",
       "..                                    ...             ...  ...     ...   \n",
       "91                                     Be       5,397,015    1       8   \n",
       "92  Shoot For The Stars, Aim For The Moon       4,777,389    1      19   \n",
       "93                                     30       4,485,025    1      12   \n",
       "94                                   Sour       3,830,500    1      11   \n",
       "95                              Hot Sauce       3,633,287    1      10   \n",
       "\n",
       "      Genre  \n",
       "0       Pop  \n",
       "1       Pop  \n",
       "2   Country  \n",
       "3      Rock  \n",
       "4      Rock  \n",
       "..      ...  \n",
       "91      Pop  \n",
       "92  Hip Hop  \n",
       "93      Pop  \n",
       "94      Pop  \n",
       "95      Pop  \n",
       "\n",
       "[96 rows x 8 columns]"
      ]
     },
     "execution_count": 16,
     "metadata": {},
     "output_type": "execute_result"
    }
   ],
   "source": [
    "albums"
   ]
  },
  {
   "cell_type": "markdown",
   "metadata": {},
   "source": [
    "# Exportar csv limpio\n"
   ]
  },
  {
   "cell_type": "code",
   "execution_count": 17,
   "metadata": {},
   "outputs": [],
   "source": [
    "albums.to_csv('../csv_limpios/albums.csv', index=False)"
   ]
  }
 ],
 "metadata": {
  "kernelspec": {
   "display_name": "base",
   "language": "python",
   "name": "python3"
  },
  "language_info": {
   "codemirror_mode": {
    "name": "ipython",
    "version": 3
   },
   "file_extension": ".py",
   "mimetype": "text/x-python",
   "name": "python",
   "nbconvert_exporter": "python",
   "pygments_lexer": "ipython3",
   "version": "3.10.9"
  }
 },
 "nbformat": 4,
 "nbformat_minor": 2
}
