{
 "cells": [
  {
   "cell_type": "markdown",
   "metadata": {},
   "source": [
    "# Scrapeo wikipedia para sacar info de los artistas\n"
   ]
  },
  {
   "cell_type": "code",
   "execution_count": 1,
   "metadata": {},
   "outputs": [],
   "source": [
    "import time\n",
    "\n",
    "import warnings\n",
    "warnings.filterwarnings('ignore')\n",
    "\n",
    "from selenium.webdriver.common.by import By\n",
    "\n",
    "from bs4 import BeautifulSoup as bs\n",
    "\n",
    "from selenium import webdriver\n",
    "\n",
    "from selenium.webdriver.chrome.service import Service\n",
    "from webdriver_manager.chrome import ChromeDriverManager\n",
    "import threading\n",
    "\n",
    "from concurrent.futures import ThreadPoolExecutor\n",
    "from selenium.common.exceptions import NoSuchElementException\n",
    "\n",
    "import pandas as pd\n",
    "\n"
   ]
  },
  {
   "cell_type": "code",
   "execution_count": 2,
   "metadata": {},
   "outputs": [],
   "source": [
    "PATH = 'driver/chromedriver.exe'\n",
    "\n",
    "driver = webdriver.Chrome(PATH) "
   ]
  },
  {
   "cell_type": "markdown",
   "metadata": {},
   "source": [
    "# Scrap de wikipedia para un solo artista"
   ]
  },
  {
   "cell_type": "code",
   "execution_count": 3,
   "metadata": {},
   "outputs": [],
   "source": [
    "url = 'https://es.wikipedia.org/wiki/Madonna'\n",
    "driver.get(url)"
   ]
  },
  {
   "cell_type": "code",
   "execution_count": 4,
   "metadata": {},
   "outputs": [],
   "source": [
    "driver.find_elements(By.CSS_SELECTOR, '#mw-content-text > div.mw-parser-output > table.infobox.biography.vcard')[0].text.split('\\n')[4:8]\n",
    "driver.quit()"
   ]
  },
  {
   "cell_type": "markdown",
   "metadata": {},
   "source": [
    "# Creo funcion para sacar datos especificos de artistas"
   ]
  },
  {
   "cell_type": "code",
   "execution_count": 5,
   "metadata": {},
   "outputs": [],
   "source": [
    "def info_artistas(artista,PATH):\n",
    "    \n",
    "    driver = webdriver.Chrome(PATH) \n",
    "    driver.get(f'https://es.wikipedia.org/wiki/{artista}')\n",
    "\n",
    "    \n",
    "    nacimiento_formacion = None\n",
    "    nacionalidad_origen = None\n",
    "\n",
    "    try:\n",
    "        info = driver.find_elements(By.CSS_SELECTOR, 'table.infobox')[0].text.split('\\n')\n",
    "        for data in info: \n",
    "            if 'Nacimiento' in data or 'Formación' in data:\n",
    "                nacimiento_formacion = data\n",
    "            elif 'Nacionalidad' in data or 'Origen' in data:\n",
    "                nacionalidad_origen = data.split(\":\")[-1].strip()\n",
    "    except NoSuchElementException:\n",
    "        print(f'No se encontró la info para el artista: {artista}')\n",
    "    \n",
    "    driver.quit()\n",
    "\n",
    "    return nacimiento_formacion, nacionalidad_origen\n",
    "\n"
   ]
  },
  {
   "cell_type": "code",
   "execution_count": 6,
   "metadata": {},
   "outputs": [],
   "source": [
    "def fetch_info(artista): \n",
    "    return info_artistas(artista, PATH)"
   ]
  },
  {
   "cell_type": "markdown",
   "metadata": {},
   "source": [
    "# Creo la tabla Artistas\n"
   ]
  },
  {
   "cell_type": "code",
   "execution_count": 7,
   "metadata": {},
   "outputs": [],
   "source": [
    "artistas = pd.read_csv('../database/csv_limpios/albums.csv')"
   ]
  },
  {
   "cell_type": "code",
   "execution_count": 8,
   "metadata": {},
   "outputs": [],
   "source": [
    "artistas = artistas.drop(columns= ['Year', 'Ranking','Album','Worldwide Sales','CDs','Tracks'])\n"
   ]
  },
  {
   "cell_type": "code",
   "execution_count": 9,
   "metadata": {},
   "outputs": [],
   "source": [
    "lista_artistas = artistas['Artist'].tolist()\n"
   ]
  },
  {
   "cell_type": "code",
   "execution_count": 10,
   "metadata": {},
   "outputs": [],
   "source": [
    "#artistas['Info']= artistas['Artist'].apply(info_artistas)"
   ]
  },
  {
   "cell_type": "code",
   "execution_count": 11,
   "metadata": {},
   "outputs": [],
   "source": [
    "#artistas.to_csv('../database/csv_limpios/pasolargo_info.csv', index=False)"
   ]
  },
  {
   "cell_type": "code",
   "execution_count": 12,
   "metadata": {},
   "outputs": [],
   "source": [
    "with ThreadPoolExecutor(max_workers=8) as executor: \n",
    "    #Map the `fetch_info` function to each artist\n",
    "    results = list(executor.map(fetch_info, lista_artistas))"
   ]
  },
  {
   "cell_type": "code",
   "execution_count": 13,
   "metadata": {},
   "outputs": [],
   "source": [
    "artistas['Info'] = results"
   ]
  },
  {
   "cell_type": "code",
   "execution_count": 15,
   "metadata": {},
   "outputs": [],
   "source": [
    "artistas = artistas.reset_index().rename(columns={'index': 'artistas_id'})"
   ]
  },
  {
   "cell_type": "code",
   "execution_count": 17,
   "metadata": {},
   "outputs": [],
   "source": [
    "#Separo la columna info en dos columnas\n",
    "artistas['Nacimiento_formacion'] = artistas['Info'].apply(lambda x: x[0])\n",
    "artistas['Nacionalidad_origen'] = artistas['Info'].apply(lambda x: x[1])"
   ]
  },
  {
   "cell_type": "code",
   "execution_count": 18,
   "metadata": {},
   "outputs": [],
   "source": [
    "artistas.fillna('Desconocido', inplace=True)"
   ]
  },
  {
   "cell_type": "code",
   "execution_count": 19,
   "metadata": {},
   "outputs": [],
   "source": [
    "artistas = artistas.drop(columns=['Info'])"
   ]
  },
  {
   "cell_type": "code",
   "execution_count": 20,
   "metadata": {},
   "outputs": [
    {
     "data": {
      "text/html": [
       "<div>\n",
       "<style scoped>\n",
       "    .dataframe tbody tr th:only-of-type {\n",
       "        vertical-align: middle;\n",
       "    }\n",
       "\n",
       "    .dataframe tbody tr th {\n",
       "        vertical-align: top;\n",
       "    }\n",
       "\n",
       "    .dataframe thead th {\n",
       "        text-align: right;\n",
       "    }\n",
       "</style>\n",
       "<table border=\"1\" class=\"dataframe\">\n",
       "  <thead>\n",
       "    <tr style=\"text-align: right;\">\n",
       "      <th></th>\n",
       "      <th>artistas_id</th>\n",
       "      <th>Artist</th>\n",
       "      <th>Genre</th>\n",
       "      <th>Nacimiento_formacion</th>\n",
       "      <th>Nacionalidad_origen</th>\n",
       "    </tr>\n",
       "  </thead>\n",
       "  <tbody>\n",
       "    <tr>\n",
       "      <th>0</th>\n",
       "      <td>0</td>\n",
       "      <td>Madonna</td>\n",
       "      <td>Pop</td>\n",
       "      <td>Nacimiento 16 de agosto de 1958 (65 años)</td>\n",
       "      <td>Nacionalidad Estadounidense</td>\n",
       "    </tr>\n",
       "    <tr>\n",
       "      <th>1</th>\n",
       "      <td>1</td>\n",
       "      <td>New_Kids_on_the_Block</td>\n",
       "      <td>Pop</td>\n",
       "      <td>Desconocido</td>\n",
       "      <td>Origen Boston, Estados Unidos</td>\n",
       "    </tr>\n",
       "    <tr>\n",
       "      <th>2</th>\n",
       "      <td>2</td>\n",
       "      <td>Garth Brooks</td>\n",
       "      <td>Country</td>\n",
       "      <td>Nacimiento 7 de febrero de 1962 (61 años)</td>\n",
       "      <td>Nacionalidad Estadounidense</td>\n",
       "    </tr>\n",
       "    <tr>\n",
       "      <th>3</th>\n",
       "      <td>3</td>\n",
       "      <td>Metallica</td>\n",
       "      <td>Rock</td>\n",
       "      <td>Desconocido</td>\n",
       "      <td>Origen Los Ángeles, California,</td>\n",
       "    </tr>\n",
       "    <tr>\n",
       "      <th>4</th>\n",
       "      <td>4</td>\n",
       "      <td>Nirvana_(banda)</td>\n",
       "      <td>Rock</td>\n",
       "      <td>Desconocido</td>\n",
       "      <td>Origen Aberdeen, Washington,</td>\n",
       "    </tr>\n",
       "  </tbody>\n",
       "</table>\n",
       "</div>"
      ],
      "text/plain": [
       "   artistas_id                 Artist    Genre  \\\n",
       "0            0                Madonna      Pop   \n",
       "1            1  New_Kids_on_the_Block      Pop   \n",
       "2            2           Garth Brooks  Country   \n",
       "3            3              Metallica     Rock   \n",
       "4            4        Nirvana_(banda)     Rock   \n",
       "\n",
       "                        Nacimiento_formacion              Nacionalidad_origen  \n",
       "0  Nacimiento 16 de agosto de 1958 (65 años)      Nacionalidad Estadounidense  \n",
       "1                                Desconocido    Origen Boston, Estados Unidos  \n",
       "2  Nacimiento 7 de febrero de 1962 (61 años)      Nacionalidad Estadounidense  \n",
       "3                                Desconocido  Origen Los Ángeles, California,  \n",
       "4                                Desconocido     Origen Aberdeen, Washington,  "
      ]
     },
     "execution_count": 20,
     "metadata": {},
     "output_type": "execute_result"
    }
   ],
   "source": [
    "artistas.head()"
   ]
  },
  {
   "cell_type": "markdown",
   "metadata": {},
   "source": [
    "# Export la tabla artistas\n"
   ]
  },
  {
   "cell_type": "code",
   "execution_count": 21,
   "metadata": {},
   "outputs": [],
   "source": [
    "artistas.to_csv('../database/csv_limpios/artistas.csv',encoding='latin1', index=False)"
   ]
  }
 ],
 "metadata": {
  "kernelspec": {
   "display_name": "base",
   "language": "python",
   "name": "python3"
  },
  "language_info": {
   "codemirror_mode": {
    "name": "ipython",
    "version": 3
   },
   "file_extension": ".py",
   "mimetype": "text/x-python",
   "name": "python",
   "nbconvert_exporter": "python",
   "pygments_lexer": "ipython3",
   "version": "3.10.9"
  }
 },
 "nbformat": 4,
 "nbformat_minor": 2
}
