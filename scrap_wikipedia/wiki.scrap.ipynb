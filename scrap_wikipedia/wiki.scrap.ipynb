{
 "cells": [
  {
   "cell_type": "markdown",
   "metadata": {},
   "source": [
    "# Scrapeo wikipedia para sacar info de los artistas\n"
   ]
  },
  {
   "cell_type": "code",
   "execution_count": 1,
   "metadata": {},
   "outputs": [],
   "source": [
    "import time\n",
    "\n",
    "import warnings\n",
    "warnings.filterwarnings('ignore')\n",
    "\n",
    "from selenium.webdriver.common.by import By\n",
    "\n",
    "from bs4 import BeautifulSoup as bs\n",
    "\n",
    "from selenium import webdriver\n",
    "\n",
    "from selenium.webdriver.chrome.service import Service\n",
    "from webdriver_manager.chrome import ChromeDriverManager\n",
    "import threading\n",
    "\n",
    "from concurrent.futures import ThreadPoolExecutor\n",
    "from selenium.common.exceptions import NoSuchElementException\n",
    "\n",
    "import pandas as pd\n",
    "\n"
   ]
  },
  {
   "cell_type": "code",
   "execution_count": 2,
   "metadata": {},
   "outputs": [],
   "source": [
    "PATH = 'driver/chromedriver.exe'\n",
    "\n",
    "driver = webdriver.Chrome(PATH) "
   ]
  },
  {
   "cell_type": "markdown",
   "metadata": {},
   "source": [
    "# Scrap de wikipedia para un solo artista"
   ]
  },
  {
   "cell_type": "code",
   "execution_count": 3,
   "metadata": {},
   "outputs": [],
   "source": [
    "url = 'https://es.wikipedia.org/wiki/Madonna'\n",
    "driver.get(url)"
   ]
  },
  {
   "cell_type": "code",
   "execution_count": 4,
   "metadata": {},
   "outputs": [],
   "source": [
    "driver.find_elements(By.CSS_SELECTOR, '#mw-content-text > div.mw-parser-output > table.infobox.biography.vcard')[0].text.split('\\n')[4:8]\n",
    "driver.quit()"
   ]
  },
  {
   "cell_type": "markdown",
   "metadata": {},
   "source": [
    "# Creo funcion para sacar datos especificos de artistas"
   ]
  },
  {
   "cell_type": "code",
   "execution_count": 5,
   "metadata": {},
   "outputs": [],
   "source": [
    "def info_artistas(artista, PATH):\n",
    "    \n",
    "    driver = webdriver.Chrome(PATH) \n",
    "    driver.get(f'https://es.wikipedia.org/wiki/{artista}')\n",
    "\n",
    "    \n",
    "    nacimiento_formacion = None\n",
    "    nacionalidad_origen = None\n",
    "\n",
    "    try:\n",
    "        info = driver.find_elements(By.CSS_SELECTOR, 'table.infobox')[0].text.split('\\n')\n",
    "        for data in info: \n",
    "            if 'Nacimiento' in data or 'Formación' in data:\n",
    "                nacimiento_formacion = data\n",
    "            elif 'Nacionalidad' in data or 'Origen' in data:\n",
    "                nacionalidad_origen = data.split(\":\")[-1].strip()\n",
    "    except NoSuchElementException:\n",
    "        print(f'No se encontró la infobox para el artista: {artista}')\n",
    "    except Exception as e:\n",
    "        print(f'Ocurrió un error al obtener la información del artista: {artista}. Error: {e}')\n",
    "    \n",
    "    driver.quit()\n",
    "\n",
    "    return nacimiento_formacion, nacionalidad_origen\n",
    "\n"
   ]
  },
  {
   "cell_type": "code",
   "execution_count": 6,
   "metadata": {},
   "outputs": [],
   "source": [
    "def fetch_info(artista): \n",
    "    return info_artistas(artista, PATH)"
   ]
  },
  {
   "cell_type": "markdown",
   "metadata": {},
   "source": [
    "# Creo la tabla Artistas\n"
   ]
  },
  {
   "cell_type": "code",
   "execution_count": 7,
   "metadata": {},
   "outputs": [],
   "source": [
    "artistas = pd.read_csv('../database/csv_limpios/albums.csv')"
   ]
  },
  {
   "cell_type": "code",
   "execution_count": 8,
   "metadata": {},
   "outputs": [],
   "source": [
    "artistas = artistas.drop(columns= ['Year', 'Ranking','Album','Worldwide Sales','CDs','Tracks'])\n"
   ]
  },
  {
   "cell_type": "code",
   "execution_count": 9,
   "metadata": {},
   "outputs": [],
   "source": [
    "lista_artistas = artistas['Artist'].tolist()\n"
   ]
  },
  {
   "cell_type": "code",
   "execution_count": 10,
   "metadata": {},
   "outputs": [
    {
     "name": "stdout",
     "output_type": "stream",
     "text": [
      "Ocurrió un error al obtener la información del artista: Eric Clapton. Error: list index out of range\n"
     ]
    }
   ],
   "source": [
    "with ThreadPoolExecutor(max_workers=8) as executor: \n",
    "    #Map the `fetch_info` function to each artist\n",
    "    results = list(executor.map(fetch_info, lista_artistas))\n"
   ]
  },
  {
   "cell_type": "code",
   "execution_count": 11,
   "metadata": {},
   "outputs": [],
   "source": [
    "artistas['Info'] = results"
   ]
  },
  {
   "cell_type": "code",
   "execution_count": 12,
   "metadata": {},
   "outputs": [],
   "source": [
    "#Separo la columna info en dos columnas\n",
    "artistas['Nacimiento_formacion'] = artistas['Info'].apply(lambda x: x[0])\n",
    "artistas['Nacionalidad_origen'] = artistas['Info'].apply(lambda x: x[1])"
   ]
  },
  {
   "cell_type": "code",
   "execution_count": 13,
   "metadata": {},
   "outputs": [
    {
     "data": {
      "text/html": [
       "<div>\n",
       "<style scoped>\n",
       "    .dataframe tbody tr th:only-of-type {\n",
       "        vertical-align: middle;\n",
       "    }\n",
       "\n",
       "    .dataframe tbody tr th {\n",
       "        vertical-align: top;\n",
       "    }\n",
       "\n",
       "    .dataframe thead th {\n",
       "        text-align: right;\n",
       "    }\n",
       "</style>\n",
       "<table border=\"1\" class=\"dataframe\">\n",
       "  <thead>\n",
       "    <tr style=\"text-align: right;\">\n",
       "      <th></th>\n",
       "      <th>Artist</th>\n",
       "      <th>Genre</th>\n",
       "      <th>Nacimiento_formacion</th>\n",
       "      <th>Nacionalidad_origen</th>\n",
       "    </tr>\n",
       "  </thead>\n",
       "  <tbody>\n",
       "    <tr>\n",
       "      <th>0</th>\n",
       "      <td>Madonna</td>\n",
       "      <td>Pop</td>\n",
       "      <td>Nacimiento 16 de agosto de 1958 (65 años)</td>\n",
       "      <td>Nacionalidad Estadounidense</td>\n",
       "    </tr>\n",
       "    <tr>\n",
       "      <th>1</th>\n",
       "      <td>New_Kids_on_the_Block</td>\n",
       "      <td>Pop</td>\n",
       "      <td>None</td>\n",
       "      <td>Origen Boston, Estados Unidos</td>\n",
       "    </tr>\n",
       "    <tr>\n",
       "      <th>2</th>\n",
       "      <td>Garth Brooks</td>\n",
       "      <td>Country</td>\n",
       "      <td>Nacimiento 7 de febrero de 1962 (61 años)</td>\n",
       "      <td>Nacionalidad Estadounidense</td>\n",
       "    </tr>\n",
       "    <tr>\n",
       "      <th>3</th>\n",
       "      <td>Metallica</td>\n",
       "      <td>Rock</td>\n",
       "      <td>None</td>\n",
       "      <td>Origen Los Ángeles, California,</td>\n",
       "    </tr>\n",
       "    <tr>\n",
       "      <th>4</th>\n",
       "      <td>Nirvana_(banda)</td>\n",
       "      <td>Rock</td>\n",
       "      <td>None</td>\n",
       "      <td>Origen Aberdeen, Washington,</td>\n",
       "    </tr>\n",
       "    <tr>\n",
       "      <th>...</th>\n",
       "      <td>...</td>\n",
       "      <td>...</td>\n",
       "      <td>...</td>\n",
       "      <td>...</td>\n",
       "    </tr>\n",
       "    <tr>\n",
       "      <th>91</th>\n",
       "      <td>BTS</td>\n",
       "      <td>Pop</td>\n",
       "      <td>None</td>\n",
       "      <td>Origen Seúl, Corea del Sur</td>\n",
       "    </tr>\n",
       "    <tr>\n",
       "      <th>92</th>\n",
       "      <td>Pop Smoke</td>\n",
       "      <td>Hip Hop</td>\n",
       "      <td>Nacimiento 20 de julio de 1999</td>\n",
       "      <td>Nacionalidad Estadounidense</td>\n",
       "    </tr>\n",
       "    <tr>\n",
       "      <th>93</th>\n",
       "      <td>Adele</td>\n",
       "      <td>Pop</td>\n",
       "      <td>Nacimiento 5 de mayo de 1988 (35 años)</td>\n",
       "      <td>Nacionalidad Británica</td>\n",
       "    </tr>\n",
       "    <tr>\n",
       "      <th>94</th>\n",
       "      <td>Olivia Rodrigo</td>\n",
       "      <td>Pop</td>\n",
       "      <td>Nacimiento 20 de febrero de 2003 (20 años)</td>\n",
       "      <td>Nacionalidad Estadounidense</td>\n",
       "    </tr>\n",
       "    <tr>\n",
       "      <th>95</th>\n",
       "      <td>Mark_Lee</td>\n",
       "      <td>Pop</td>\n",
       "      <td>Nacimiento 2 de agosto de 1999 (24 años)</td>\n",
       "      <td>Nacionalidad Canadiense</td>\n",
       "    </tr>\n",
       "  </tbody>\n",
       "</table>\n",
       "<p>96 rows × 4 columns</p>\n",
       "</div>"
      ],
      "text/plain": [
       "                   Artist    Genre  \\\n",
       "0                 Madonna      Pop   \n",
       "1   New_Kids_on_the_Block      Pop   \n",
       "2            Garth Brooks  Country   \n",
       "3               Metallica     Rock   \n",
       "4         Nirvana_(banda)     Rock   \n",
       "..                    ...      ...   \n",
       "91                    BTS      Pop   \n",
       "92              Pop Smoke  Hip Hop   \n",
       "93                  Adele      Pop   \n",
       "94         Olivia Rodrigo      Pop   \n",
       "95               Mark_Lee      Pop   \n",
       "\n",
       "                          Nacimiento_formacion  \\\n",
       "0    Nacimiento 16 de agosto de 1958 (65 años)   \n",
       "1                                         None   \n",
       "2    Nacimiento 7 de febrero de 1962 (61 años)   \n",
       "3                                         None   \n",
       "4                                         None   \n",
       "..                                         ...   \n",
       "91                                        None   \n",
       "92              Nacimiento 20 de julio de 1999   \n",
       "93      Nacimiento 5 de mayo de 1988 (35 años)   \n",
       "94  Nacimiento 20 de febrero de 2003 (20 años)   \n",
       "95    Nacimiento 2 de agosto de 1999 (24 años)   \n",
       "\n",
       "                Nacionalidad_origen  \n",
       "0       Nacionalidad Estadounidense  \n",
       "1     Origen Boston, Estados Unidos  \n",
       "2       Nacionalidad Estadounidense  \n",
       "3   Origen Los Ángeles, California,  \n",
       "4      Origen Aberdeen, Washington,  \n",
       "..                              ...  \n",
       "91       Origen Seúl, Corea del Sur  \n",
       "92      Nacionalidad Estadounidense  \n",
       "93           Nacionalidad Británica  \n",
       "94      Nacionalidad Estadounidense  \n",
       "95          Nacionalidad Canadiense  \n",
       "\n",
       "[96 rows x 4 columns]"
      ]
     },
     "execution_count": 13,
     "metadata": {},
     "output_type": "execute_result"
    }
   ],
   "source": [
    "artistas.drop(columns='Info')"
   ]
  },
  {
   "cell_type": "markdown",
   "metadata": {},
   "source": [
    "# Export la tabla artistas\n"
   ]
  },
  {
   "cell_type": "code",
   "execution_count": 14,
   "metadata": {},
   "outputs": [],
   "source": [
    "artistas.to_csv('../database/csv_limpios/artistas.csv', index=False)"
   ]
  }
 ],
 "metadata": {
  "kernelspec": {
   "display_name": "base",
   "language": "python",
   "name": "python3"
  },
  "language_info": {
   "codemirror_mode": {
    "name": "ipython",
    "version": 3
   },
   "file_extension": ".py",
   "mimetype": "text/x-python",
   "name": "python",
   "nbconvert_exporter": "python",
   "pygments_lexer": "ipython3",
   "version": "3.10.9"
  }
 },
 "nbformat": 4,
 "nbformat_minor": 2
}
