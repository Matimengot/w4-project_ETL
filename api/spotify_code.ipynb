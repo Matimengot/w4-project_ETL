{
 "cells": [
  {
   "cell_type": "markdown",
   "metadata": {},
   "source": [
    "PROYECTO ETL"
   ]
  },
  {
   "cell_type": "code",
   "execution_count": 1,
   "metadata": {},
   "outputs": [],
   "source": [
    "import requests as req\n",
    "import os\n",
    "from dotenv import load_dotenv\n",
    "import base64\n",
    "from requests import post,get\n",
    "import json\n",
    "import pandas as pd\n",
    "\n",
    "import warnings\n",
    "warnings.filterwarnings('ignore')"
   ]
  },
  {
   "cell_type": "code",
   "execution_count": 2,
   "metadata": {},
   "outputs": [],
   "source": [
    "load_dotenv()\n",
    "client_id=os.getenv('CLIENT_ID')\n",
    "client_secret=os.getenv('CLIENT_SECRET')"
   ]
  },
  {
   "cell_type": "code",
   "execution_count": 3,
   "metadata": {},
   "outputs": [],
   "source": [
    "#para entrar a la api\n",
    "def get_token():\n",
    "    auth_string = client_id + ':' + client_secret\n",
    "    auth_bytes = auth_string.encode('utf-8')\n",
    "    auth_base64 = base64.b64encode(auth_bytes).decode('utf-8')\n",
    "\n",
    "    url = 'https://accounts.spotify.com/api/token'\n",
    "    headers = {\n",
    "        'Authorization': 'Basic ' + auth_base64,\n",
    "        'Content-Type': 'application/x-www-form-urlencoded'\n",
    "    }\n",
    "\n",
    "    data = {'grant_type': 'client_credentials'}\n",
    "    result = post(url, headers=headers, data=data)\n",
    "    \n",
    "    json_result = result.json()\n",
    "    token = json_result.get('access_token', None) \n",
    "    return token\n",
    "\n",
    "token = get_token()\n"
   ]
  },
  {
   "cell_type": "code",
   "execution_count": 4,
   "metadata": {},
   "outputs": [],
   "source": [
    "def get_auth_header(token):\n",
    "    return {'Authorization':'Bearer '+ token}\n"
   ]
  },
  {
   "cell_type": "code",
   "execution_count": 5,
   "metadata": {},
   "outputs": [],
   "source": [
    "#Funcion para buscar unicamente los id de los albums\n",
    "def search_for_album_id(token, album_name):\n",
    "    url = 'https://api.spotify.com/v1/search'\n",
    "    headers = {'Authorization': f'Bearer {token}'}\n",
    "    params = {\n",
    "        'q': album_name,\n",
    "        'type': 'album',\n",
    "        'limit': 1\n",
    "    }\n",
    "\n",
    "    response = req.get(url, headers=headers, params=params)\n",
    "    json_result = response.json()\n",
    "\n",
    "    albums_items = json_result.get('albums', {}).get('items', [])\n",
    "    if albums_items:\n",
    "\n",
    "        return albums_items[0].get('id')\n",
    "    else:\n",
    "        return None"
   ]
  },
  {
   "cell_type": "markdown",
   "metadata": {},
   "source": [
    "# Importo el database que limpie para sacar los albums id"
   ]
  },
  {
   "cell_type": "code",
   "execution_count": 6,
   "metadata": {},
   "outputs": [],
   "source": [
    "#Creo una nueva tabla para las canciones de los albums\n",
    "canciones = pd.read_csv('../database/csv_limpios/albums.csv')"
   ]
  },
  {
   "cell_type": "code",
   "execution_count": 7,
   "metadata": {},
   "outputs": [],
   "source": [
    "canciones['album_id'] = canciones['Album'].apply(lambda x: search_for_album_id(token, x))"
   ]
  },
  {
   "cell_type": "code",
   "execution_count": 8,
   "metadata": {},
   "outputs": [],
   "source": [
    "canciones = canciones.drop(columns=['Year', 'Ranking','Worldwide Sales','CDs','Genre'])\n"
   ]
  },
  {
   "cell_type": "code",
   "execution_count": 9,
   "metadata": {},
   "outputs": [],
   "source": [
    "lista_id = canciones['album_id'].tolist()"
   ]
  },
  {
   "cell_type": "code",
   "execution_count": 10,
   "metadata": {},
   "outputs": [],
   "source": [
    "# Funcion para obtener las canciones de los albums\n",
    "def cancion(album_id, token):\n",
    "    headers = {'Authorization': f'Bearer {token}'}\n",
    "    url = f'https://api.spotify.com/v1/albums/{album_id}/tracks'\n",
    "    try:\n",
    "        response = req.get(url, headers=headers)\n",
    "        album_tracks = response.json().get('items', []) \n",
    "        return [track['name'] for track in album_tracks]  \n",
    "    except:\n",
    "        pass"
   ]
  },
  {
   "cell_type": "code",
   "execution_count": 11,
   "metadata": {},
   "outputs": [],
   "source": [
    "#Aplico la funcion para todos los albums_id\n",
    "canciones['Pistas'] = canciones['album_id'].apply(lambda x: cancion(x, token))"
   ]
  },
  {
   "cell_type": "code",
   "execution_count": 12,
   "metadata": {},
   "outputs": [],
   "source": [
    "canciones = canciones.reset_index().rename(columns={'index': 'canciones_id'})"
   ]
  },
  {
   "cell_type": "code",
   "execution_count": 13,
   "metadata": {},
   "outputs": [],
   "source": [
    "#Desarmo la lista\n",
    "canciones['Pistas'] = canciones['Pistas'].apply(lambda x: ', '.join(x))"
   ]
  },
  {
   "cell_type": "code",
   "execution_count": 14,
   "metadata": {},
   "outputs": [
    {
     "data": {
      "text/html": [
       "<div>\n",
       "<style scoped>\n",
       "    .dataframe tbody tr th:only-of-type {\n",
       "        vertical-align: middle;\n",
       "    }\n",
       "\n",
       "    .dataframe tbody tr th {\n",
       "        vertical-align: top;\n",
       "    }\n",
       "\n",
       "    .dataframe thead th {\n",
       "        text-align: right;\n",
       "    }\n",
       "</style>\n",
       "<table border=\"1\" class=\"dataframe\">\n",
       "  <thead>\n",
       "    <tr style=\"text-align: right;\">\n",
       "      <th></th>\n",
       "      <th>canciones_id</th>\n",
       "      <th>Artist</th>\n",
       "      <th>Album</th>\n",
       "      <th>Tracks</th>\n",
       "      <th>album_id</th>\n",
       "      <th>Pistas</th>\n",
       "    </tr>\n",
       "  </thead>\n",
       "  <tbody>\n",
       "    <tr>\n",
       "      <th>0</th>\n",
       "      <td>0</td>\n",
       "      <td>Madonna</td>\n",
       "      <td>The Immaculate Collection</td>\n",
       "      <td>17</td>\n",
       "      <td>5MzwGwnO9gkh0z6Nl4FF8h</td>\n",
       "      <td>Holiday, Lucky Star - US ReMix Version, Border...</td>\n",
       "    </tr>\n",
       "    <tr>\n",
       "      <th>1</th>\n",
       "      <td>1</td>\n",
       "      <td>New_Kids_on_the_Block</td>\n",
       "      <td>Step By Step</td>\n",
       "      <td>12</td>\n",
       "      <td>4dCdnfD0shXGuHtyTOtx8q</td>\n",
       "      <td>Step by Step, Tonight, Baby, I Believe In You,...</td>\n",
       "    </tr>\n",
       "    <tr>\n",
       "      <th>2</th>\n",
       "      <td>2</td>\n",
       "      <td>Garth Brooks</td>\n",
       "      <td>No Fences</td>\n",
       "      <td>10</td>\n",
       "      <td>2l8LCtgshAUZlSZbLAzWr4</td>\n",
       "      <td>don't tell anyone, i hope i never have a daugh...</td>\n",
       "    </tr>\n",
       "    <tr>\n",
       "      <th>3</th>\n",
       "      <td>3</td>\n",
       "      <td>Metallica</td>\n",
       "      <td>Metallica</td>\n",
       "      <td>12</td>\n",
       "      <td>55fq75UfkYbGMq4CncCtOH</td>\n",
       "      <td>Enter Sandman (Remastered), Sad But True (Rema...</td>\n",
       "    </tr>\n",
       "    <tr>\n",
       "      <th>4</th>\n",
       "      <td>4</td>\n",
       "      <td>Nirvana_(banda)</td>\n",
       "      <td>Nevermind</td>\n",
       "      <td>13</td>\n",
       "      <td>2guirTSEqLizK7j9i1MTTZ</td>\n",
       "      <td>Smells Like Teen Spirit, In Bloom, Come As You...</td>\n",
       "    </tr>\n",
       "    <tr>\n",
       "      <th>...</th>\n",
       "      <td>...</td>\n",
       "      <td>...</td>\n",
       "      <td>...</td>\n",
       "      <td>...</td>\n",
       "      <td>...</td>\n",
       "      <td>...</td>\n",
       "    </tr>\n",
       "    <tr>\n",
       "      <th>91</th>\n",
       "      <td>91</td>\n",
       "      <td>BTS</td>\n",
       "      <td>Be</td>\n",
       "      <td>8</td>\n",
       "      <td>0P3oVJBFOv3TDXlYRhGL7s</td>\n",
       "      <td>Real Life, Losers, Tell Your Friends, Often, T...</td>\n",
       "    </tr>\n",
       "    <tr>\n",
       "      <th>92</th>\n",
       "      <td>92</td>\n",
       "      <td>Pop Smoke</td>\n",
       "      <td>Shoot For The Stars, Aim For The Moon</td>\n",
       "      <td>19</td>\n",
       "      <td>7e7t0MCrNDcJZsPwUKjmOc</td>\n",
       "      <td>Bad Bitch From Tokyo (Intro), Aim For The Moon...</td>\n",
       "    </tr>\n",
       "    <tr>\n",
       "      <th>93</th>\n",
       "      <td>93</td>\n",
       "      <td>Adele</td>\n",
       "      <td>30</td>\n",
       "      <td>12</td>\n",
       "      <td>21jF5jlMtzo94wbxmJ18aa</td>\n",
       "      <td>Strangers By Nature, Easy On Me, My Little Lov...</td>\n",
       "    </tr>\n",
       "    <tr>\n",
       "      <th>94</th>\n",
       "      <td>94</td>\n",
       "      <td>Olivia Rodrigo</td>\n",
       "      <td>Sour</td>\n",
       "      <td>11</td>\n",
       "      <td>6s84u2TUpR3wdUv4NgKA2j</td>\n",
       "      <td>brutal, traitor, drivers license, 1 step forwa...</td>\n",
       "    </tr>\n",
       "    <tr>\n",
       "      <th>95</th>\n",
       "      <td>95</td>\n",
       "      <td>Mark_Lee</td>\n",
       "      <td>Hot Sauce</td>\n",
       "      <td>10</td>\n",
       "      <td>1miTgxRTUje9Jqml1aOSUi</td>\n",
       "      <td>Hot Sauce, Diggity, Dive Into You, My Youth, R...</td>\n",
       "    </tr>\n",
       "  </tbody>\n",
       "</table>\n",
       "<p>96 rows × 6 columns</p>\n",
       "</div>"
      ],
      "text/plain": [
       "    canciones_id                 Artist  \\\n",
       "0              0                Madonna   \n",
       "1              1  New_Kids_on_the_Block   \n",
       "2              2           Garth Brooks   \n",
       "3              3              Metallica   \n",
       "4              4        Nirvana_(banda)   \n",
       "..           ...                    ...   \n",
       "91            91                    BTS   \n",
       "92            92              Pop Smoke   \n",
       "93            93                  Adele   \n",
       "94            94         Olivia Rodrigo   \n",
       "95            95               Mark_Lee   \n",
       "\n",
       "                                    Album  Tracks                album_id  \\\n",
       "0               The Immaculate Collection      17  5MzwGwnO9gkh0z6Nl4FF8h   \n",
       "1                            Step By Step      12  4dCdnfD0shXGuHtyTOtx8q   \n",
       "2                               No Fences      10  2l8LCtgshAUZlSZbLAzWr4   \n",
       "3                               Metallica      12  55fq75UfkYbGMq4CncCtOH   \n",
       "4                               Nevermind      13  2guirTSEqLizK7j9i1MTTZ   \n",
       "..                                    ...     ...                     ...   \n",
       "91                                     Be       8  0P3oVJBFOv3TDXlYRhGL7s   \n",
       "92  Shoot For The Stars, Aim For The Moon      19  7e7t0MCrNDcJZsPwUKjmOc   \n",
       "93                                     30      12  21jF5jlMtzo94wbxmJ18aa   \n",
       "94                                   Sour      11  6s84u2TUpR3wdUv4NgKA2j   \n",
       "95                              Hot Sauce      10  1miTgxRTUje9Jqml1aOSUi   \n",
       "\n",
       "                                               Pistas  \n",
       "0   Holiday, Lucky Star - US ReMix Version, Border...  \n",
       "1   Step by Step, Tonight, Baby, I Believe In You,...  \n",
       "2   don't tell anyone, i hope i never have a daugh...  \n",
       "3   Enter Sandman (Remastered), Sad But True (Rema...  \n",
       "4   Smells Like Teen Spirit, In Bloom, Come As You...  \n",
       "..                                                ...  \n",
       "91  Real Life, Losers, Tell Your Friends, Often, T...  \n",
       "92  Bad Bitch From Tokyo (Intro), Aim For The Moon...  \n",
       "93  Strangers By Nature, Easy On Me, My Little Lov...  \n",
       "94  brutal, traitor, drivers license, 1 step forwa...  \n",
       "95  Hot Sauce, Diggity, Dive Into You, My Youth, R...  \n",
       "\n",
       "[96 rows x 6 columns]"
      ]
     },
     "execution_count": 14,
     "metadata": {},
     "output_type": "execute_result"
    }
   ],
   "source": [
    "canciones"
   ]
  },
  {
   "cell_type": "markdown",
   "metadata": {},
   "source": [
    "# Agrego una columna de popularidad a la tabla de albums usando la api\n"
   ]
  },
  {
   "cell_type": "code",
   "execution_count": 15,
   "metadata": {},
   "outputs": [],
   "source": [
    "albums2 = pd.read_csv('../database/csv_limpios/albums.csv')"
   ]
  },
  {
   "cell_type": "code",
   "execution_count": 16,
   "metadata": {},
   "outputs": [],
   "source": [
    "#Primero agrego los album_id a la tabla\n",
    "albums2['album_id'] = albums2['Album'].apply(lambda x: search_for_album_id(token, x))"
   ]
  },
  {
   "cell_type": "code",
   "execution_count": 17,
   "metadata": {},
   "outputs": [],
   "source": [
    "# Popularidad de los albums del ranking hoy en dia, esta entre 0 y 100 siendo 100 el mas popular\n",
    "#La popularidad se calcula por la cantidad de reproducciones de las pistas del álbum y qué tan recientes son esas reproducciones.\n",
    "def popularity(token, album_id):\n",
    "    \n",
    "    url = f'https://api.spotify.com/v1/albums/{album_id}'\n",
    "    headers = {'Authorization': f'Bearer {token}'}\n",
    "\n",
    "    response = req.get(url, headers=headers)\n",
    "    album_details = response.json()\n",
    "\n",
    "    popularity = album_details.get('popularity')\n",
    "\n",
    "    return popularity\n",
    "\n",
    "albums2['popularity'] = albums2['album_id'].apply(lambda x: popularity(token, x))"
   ]
  },
  {
   "cell_type": "code",
   "execution_count": 18,
   "metadata": {},
   "outputs": [],
   "source": [
    "albums2 = albums2.reset_index().rename(columns={'index': 'albums_id'})"
   ]
  },
  {
   "cell_type": "markdown",
   "metadata": {},
   "source": [
    "# Exporto canciones "
   ]
  },
  {
   "cell_type": "code",
   "execution_count": 20,
   "metadata": {},
   "outputs": [],
   "source": [
    "canciones.to_csv('../database/csv_limpios/canciones.csv', index=False)\n",
    "\n",
    "albums2.to_csv('../database//csv_limpios/albums_completo.csv', index=False)"
   ]
  }
 ],
 "metadata": {
  "kernelspec": {
   "display_name": "base",
   "language": "python",
   "name": "python3"
  },
  "language_info": {
   "codemirror_mode": {
    "name": "ipython",
    "version": 3
   },
   "file_extension": ".py",
   "mimetype": "text/x-python",
   "name": "python",
   "nbconvert_exporter": "python",
   "pygments_lexer": "ipython3",
   "version": "3.10.9"
  }
 },
 "nbformat": 4,
 "nbformat_minor": 2
}
