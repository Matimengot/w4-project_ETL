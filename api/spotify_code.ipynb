{
 "cells": [
  {
   "cell_type": "markdown",
   "metadata": {},
   "source": [
    "PROYECTO ETL"
   ]
  },
  {
   "cell_type": "code",
   "execution_count": 1,
   "metadata": {},
   "outputs": [],
   "source": [
    "import requests as req\n",
    "import os\n",
    "from dotenv import load_dotenv\n",
    "import base64\n",
    "from requests import post,get\n",
    "import json\n",
    "import pandas as pd\n",
    "\n",
    "import warnings\n",
    "warnings.filterwarnings('ignore')"
   ]
  },
  {
   "cell_type": "code",
   "execution_count": 2,
   "metadata": {},
   "outputs": [],
   "source": [
    "load_dotenv()\n",
    "client_id=os.getenv('CLIENT_ID')\n",
    "client_secret=os.getenv('CLIENT_SECRET')"
   ]
  },
  {
   "cell_type": "code",
   "execution_count": 3,
   "metadata": {},
   "outputs": [],
   "source": [
    "#para entrar a la api\n",
    "def get_token():\n",
    "    auth_string = client_id + ':' + client_secret\n",
    "    auth_bytes = auth_string.encode('utf-8')\n",
    "    auth_base64 = base64.b64encode(auth_bytes).decode('utf-8')\n",
    "\n",
    "    url = 'https://accounts.spotify.com/api/token'\n",
    "    headers = {\n",
    "        'Authorization': 'Basic ' + auth_base64,\n",
    "        'Content-Type': 'application/x-www-form-urlencoded'\n",
    "    }\n",
    "\n",
    "    data = {'grant_type': 'client_credentials'}\n",
    "    result = post(url, headers=headers, data=data)\n",
    "    \n",
    "    json_result = result.json()\n",
    "    token = json_result.get('access_token', None) \n",
    "    return token\n",
    "\n",
    "token = get_token()\n"
   ]
  },
  {
   "cell_type": "code",
   "execution_count": 4,
   "metadata": {},
   "outputs": [],
   "source": [
    "def get_auth_header(token):\n",
    "    return {'Authorization':'Bearer '+ token}\n"
   ]
  },
  {
   "cell_type": "code",
   "execution_count": 6,
   "metadata": {},
   "outputs": [],
   "source": [
    "#Funcion para buscar unicamente los id de los albums\n",
    "def search_for_album_id(token, album_name):\n",
    "    url = 'https://api.spotify.com/v1/search'\n",
    "    headers = {'Authorization': f'Bearer {token}'}\n",
    "    params = {\n",
    "        'q': album_name,\n",
    "        'type': 'album',\n",
    "        'limit': 1\n",
    "    }\n",
    "\n",
    "    response = req.get(url, headers=headers, params=params)\n",
    "    json_result = response.json()\n",
    "\n",
    "    # Buscar el ID del álbum en los resultados y devolverlo\n",
    "    albums_items = json_result.get('albums', {}).get('items', [])\n",
    "    if albums_items:\n",
    "\n",
    "        return albums_items[0].get('id')\n",
    "    else:\n",
    "        return None"
   ]
  },
  {
   "cell_type": "markdown",
   "metadata": {},
   "source": [
    "# Importo el database que limpie para sacar los albums id"
   ]
  },
  {
   "cell_type": "code",
   "execution_count": 7,
   "metadata": {},
   "outputs": [],
   "source": [
    "#Creo una nueva tabla para las canciones de los albums\n",
    "canciones = pd.read_csv('../database/csv_limpios/albums.csv')"
   ]
  },
  {
   "cell_type": "code",
   "execution_count": 8,
   "metadata": {},
   "outputs": [],
   "source": [
    "canciones['album_id'] = canciones['Album'].apply(lambda x: search_for_album_id(token, x))"
   ]
  },
  {
   "cell_type": "code",
   "execution_count": 9,
   "metadata": {},
   "outputs": [],
   "source": [
    "canciones = canciones.drop(columns=['Year', 'Ranking','Worldwide Sales','CDs','Genre','Tracks',])\n"
   ]
  },
  {
   "cell_type": "code",
   "execution_count": 10,
   "metadata": {},
   "outputs": [],
   "source": [
    "lista_id = canciones['album_id'].tolist()"
   ]
  },
  {
   "cell_type": "code",
   "execution_count": 11,
   "metadata": {},
   "outputs": [],
   "source": [
    "# Funcion para obtener las canciones de los albums\n",
    "def cancion(album_id, token):\n",
    "    headers = {'Authorization': f'Bearer {token}'}\n",
    "    url = f'https://api.spotify.com/v1/albums/{album_id}/tracks'\n",
    "    try:\n",
    "        response = req.get(url, headers=headers)\n",
    "        album_tracks = response.json().get('items', []) \n",
    "        return [track['name'] for track in album_tracks]  \n",
    "    except:\n",
    "        pass"
   ]
  },
  {
   "cell_type": "code",
   "execution_count": 12,
   "metadata": {},
   "outputs": [],
   "source": [
    "#Aplico la funcion para todos los albums_id\n",
    "canciones['canciones'] = canciones['album_id'].apply(lambda x: cancion(x, token))"
   ]
  },
  {
   "cell_type": "code",
   "execution_count": 13,
   "metadata": {},
   "outputs": [],
   "source": [
    "#Aplico pd.Series para separar en cada columna una cancion\n",
    "canciones2 = canciones['canciones'].apply(pd.Series)"
   ]
  },
  {
   "cell_type": "code",
   "execution_count": 14,
   "metadata": {},
   "outputs": [],
   "source": [
    "#uno los dataframes a solo uno\n",
    "canciones = pd.concat([canciones, canciones2], axis=1).drop('canciones', axis=1)"
   ]
  },
  {
   "cell_type": "code",
   "execution_count": 15,
   "metadata": {},
   "outputs": [],
   "source": [
    "#Renombro las columnas\n",
    "canciones = canciones.rename(columns={\n",
    "                                        0: 'Cancion 1', 1: 'Cancion 2', 2: 'Cancion 3', 3: 'Cancion 4', 4: 'Cancion 5',\n",
    "                                        5: 'Cancion 6', 6: 'Cancion 7', 7: 'Cancion 8', 8: 'Cancion 9',\n",
    "                                        9: 'Cancion 10', 10: 'Cancion 11', 11: 'Cancion 12', 12: 'Cancion 13',\n",
    "                                        13: 'Cancion 14', 14: 'Cancion 15', 15: 'Cancion 16', 16: 'Cancion 17'\n",
    "                                    })"
   ]
  },
  {
   "cell_type": "code",
   "execution_count": 16,
   "metadata": {},
   "outputs": [],
   "source": [
    "#Cambio los nan\n",
    "canciones.fillna('no tiene', inplace=True)"
   ]
  },
  {
   "cell_type": "markdown",
   "metadata": {},
   "source": [
    "# Agrego una columna de popularidad a la tabla de albums usando la api\n"
   ]
  },
  {
   "cell_type": "code",
   "execution_count": 17,
   "metadata": {},
   "outputs": [],
   "source": [
    "albums2 = pd.read_csv('../database/csv_limpios/albums.csv')"
   ]
  },
  {
   "cell_type": "code",
   "execution_count": 18,
   "metadata": {},
   "outputs": [],
   "source": [
    "#Primero agrego los album_id a la tabla\n",
    "albums2['album_id'] = albums2['Album'].apply(lambda x: search_for_album_id(token, x))"
   ]
  },
  {
   "cell_type": "code",
   "execution_count": 19,
   "metadata": {},
   "outputs": [],
   "source": [
    "# Popularidad de los albums del ranking hoy en dia, esta entre 0 y 100 siendo 100 el mas popular\n",
    "#La popularidad se calcula por la cantidad de reproducciones de las pistas del álbum y qué tan recientes son esas reproducciones.\n",
    "def popularity(token, album_id):\n",
    "    \n",
    "    url = f'https://api.spotify.com/v1/albums/{album_id}'\n",
    "    headers = {'Authorization': f'Bearer {token}'}\n",
    "\n",
    "    response = req.get(url, headers=headers)\n",
    "    album_details = response.json()\n",
    "\n",
    "    popularity = album_details.get('popularity')\n",
    "\n",
    "    return popularity\n",
    "\n",
    "albums2['popularity'] = albums2['album_id'].apply(lambda x: popularity(token, x))"
   ]
  },
  {
   "cell_type": "code",
   "execution_count": 20,
   "metadata": {},
   "outputs": [
    {
     "data": {
      "text/html": [
       "<div>\n",
       "<style scoped>\n",
       "    .dataframe tbody tr th:only-of-type {\n",
       "        vertical-align: middle;\n",
       "    }\n",
       "\n",
       "    .dataframe tbody tr th {\n",
       "        vertical-align: top;\n",
       "    }\n",
       "\n",
       "    .dataframe thead th {\n",
       "        text-align: right;\n",
       "    }\n",
       "</style>\n",
       "<table border=\"1\" class=\"dataframe\">\n",
       "  <thead>\n",
       "    <tr style=\"text-align: right;\">\n",
       "      <th></th>\n",
       "      <th>Year</th>\n",
       "      <th>Ranking</th>\n",
       "      <th>Artist</th>\n",
       "      <th>Album</th>\n",
       "      <th>Worldwide Sales</th>\n",
       "      <th>CDs</th>\n",
       "      <th>Tracks</th>\n",
       "      <th>Genre</th>\n",
       "      <th>album_id</th>\n",
       "      <th>popularity</th>\n",
       "    </tr>\n",
       "  </thead>\n",
       "  <tbody>\n",
       "    <tr>\n",
       "      <th>0</th>\n",
       "      <td>1990</td>\n",
       "      <td>1</td>\n",
       "      <td>Madonna</td>\n",
       "      <td>The Immaculate Collection</td>\n",
       "      <td>30,000,000</td>\n",
       "      <td>1</td>\n",
       "      <td>17</td>\n",
       "      <td>Pop</td>\n",
       "      <td>5MzwGwnO9gkh0z6Nl4FF8h</td>\n",
       "      <td>61</td>\n",
       "    </tr>\n",
       "    <tr>\n",
       "      <th>1</th>\n",
       "      <td>1990</td>\n",
       "      <td>2</td>\n",
       "      <td>New_Kids_on_the_Block</td>\n",
       "      <td>Step By Step</td>\n",
       "      <td>20,000,000</td>\n",
       "      <td>1</td>\n",
       "      <td>12</td>\n",
       "      <td>Pop</td>\n",
       "      <td>4dCdnfD0shXGuHtyTOtx8q</td>\n",
       "      <td>54</td>\n",
       "    </tr>\n",
       "    <tr>\n",
       "      <th>2</th>\n",
       "      <td>1990</td>\n",
       "      <td>3</td>\n",
       "      <td>Garth Brooks</td>\n",
       "      <td>No Fences</td>\n",
       "      <td>18,770,000</td>\n",
       "      <td>1</td>\n",
       "      <td>10</td>\n",
       "      <td>Country</td>\n",
       "      <td>2l8LCtgshAUZlSZbLAzWr4</td>\n",
       "      <td>4</td>\n",
       "    </tr>\n",
       "    <tr>\n",
       "      <th>3</th>\n",
       "      <td>1991</td>\n",
       "      <td>1</td>\n",
       "      <td>Metallica</td>\n",
       "      <td>Metallica</td>\n",
       "      <td>33,000,000</td>\n",
       "      <td>1</td>\n",
       "      <td>12</td>\n",
       "      <td>Rock</td>\n",
       "      <td>55fq75UfkYbGMq4CncCtOH</td>\n",
       "      <td>72</td>\n",
       "    </tr>\n",
       "    <tr>\n",
       "      <th>4</th>\n",
       "      <td>1991</td>\n",
       "      <td>2</td>\n",
       "      <td>Nirvana_(banda)</td>\n",
       "      <td>Nevermind</td>\n",
       "      <td>30,000,000</td>\n",
       "      <td>1</td>\n",
       "      <td>13</td>\n",
       "      <td>Rock</td>\n",
       "      <td>2guirTSEqLizK7j9i1MTTZ</td>\n",
       "      <td>77</td>\n",
       "    </tr>\n",
       "    <tr>\n",
       "      <th>...</th>\n",
       "      <td>...</td>\n",
       "      <td>...</td>\n",
       "      <td>...</td>\n",
       "      <td>...</td>\n",
       "      <td>...</td>\n",
       "      <td>...</td>\n",
       "      <td>...</td>\n",
       "      <td>...</td>\n",
       "      <td>...</td>\n",
       "      <td>...</td>\n",
       "    </tr>\n",
       "    <tr>\n",
       "      <th>91</th>\n",
       "      <td>2020</td>\n",
       "      <td>2</td>\n",
       "      <td>BTS</td>\n",
       "      <td>Be</td>\n",
       "      <td>5,397,015</td>\n",
       "      <td>1</td>\n",
       "      <td>8</td>\n",
       "      <td>Pop</td>\n",
       "      <td>0P3oVJBFOv3TDXlYRhGL7s</td>\n",
       "      <td>85</td>\n",
       "    </tr>\n",
       "    <tr>\n",
       "      <th>92</th>\n",
       "      <td>2020</td>\n",
       "      <td>3</td>\n",
       "      <td>Pop Smoke</td>\n",
       "      <td>Shoot For The Stars, Aim For The Moon</td>\n",
       "      <td>4,777,389</td>\n",
       "      <td>1</td>\n",
       "      <td>19</td>\n",
       "      <td>Hip Hop</td>\n",
       "      <td>7e7t0MCrNDcJZsPwUKjmOc</td>\n",
       "      <td>81</td>\n",
       "    </tr>\n",
       "    <tr>\n",
       "      <th>93</th>\n",
       "      <td>2021</td>\n",
       "      <td>1</td>\n",
       "      <td>Adele</td>\n",
       "      <td>30</td>\n",
       "      <td>4,485,025</td>\n",
       "      <td>1</td>\n",
       "      <td>12</td>\n",
       "      <td>Pop</td>\n",
       "      <td>21jF5jlMtzo94wbxmJ18aa</td>\n",
       "      <td>80</td>\n",
       "    </tr>\n",
       "    <tr>\n",
       "      <th>94</th>\n",
       "      <td>2021</td>\n",
       "      <td>2</td>\n",
       "      <td>Olivia Rodrigo</td>\n",
       "      <td>Sour</td>\n",
       "      <td>3,830,500</td>\n",
       "      <td>1</td>\n",
       "      <td>11</td>\n",
       "      <td>Pop</td>\n",
       "      <td>6s84u2TUpR3wdUv4NgKA2j</td>\n",
       "      <td>90</td>\n",
       "    </tr>\n",
       "    <tr>\n",
       "      <th>95</th>\n",
       "      <td>2021</td>\n",
       "      <td>3</td>\n",
       "      <td>Mark_Lee</td>\n",
       "      <td>Hot Sauce</td>\n",
       "      <td>3,633,287</td>\n",
       "      <td>1</td>\n",
       "      <td>10</td>\n",
       "      <td>Pop</td>\n",
       "      <td>1miTgxRTUje9Jqml1aOSUi</td>\n",
       "      <td>64</td>\n",
       "    </tr>\n",
       "  </tbody>\n",
       "</table>\n",
       "<p>96 rows × 10 columns</p>\n",
       "</div>"
      ],
      "text/plain": [
       "    Year  Ranking                 Artist  \\\n",
       "0   1990        1                Madonna   \n",
       "1   1990        2  New_Kids_on_the_Block   \n",
       "2   1990        3           Garth Brooks   \n",
       "3   1991        1              Metallica   \n",
       "4   1991        2        Nirvana_(banda)   \n",
       "..   ...      ...                    ...   \n",
       "91  2020        2                    BTS   \n",
       "92  2020        3              Pop Smoke   \n",
       "93  2021        1                  Adele   \n",
       "94  2021        2         Olivia Rodrigo   \n",
       "95  2021        3               Mark_Lee   \n",
       "\n",
       "                                    Album Worldwide Sales  CDs  Tracks  \\\n",
       "0               The Immaculate Collection      30,000,000    1      17   \n",
       "1                            Step By Step      20,000,000    1      12   \n",
       "2                               No Fences      18,770,000    1      10   \n",
       "3                               Metallica      33,000,000    1      12   \n",
       "4                               Nevermind      30,000,000    1      13   \n",
       "..                                    ...             ...  ...     ...   \n",
       "91                                     Be       5,397,015    1       8   \n",
       "92  Shoot For The Stars, Aim For The Moon       4,777,389    1      19   \n",
       "93                                     30       4,485,025    1      12   \n",
       "94                                   Sour       3,830,500    1      11   \n",
       "95                              Hot Sauce       3,633,287    1      10   \n",
       "\n",
       "      Genre                album_id  popularity  \n",
       "0       Pop  5MzwGwnO9gkh0z6Nl4FF8h          61  \n",
       "1       Pop  4dCdnfD0shXGuHtyTOtx8q          54  \n",
       "2   Country  2l8LCtgshAUZlSZbLAzWr4           4  \n",
       "3      Rock  55fq75UfkYbGMq4CncCtOH          72  \n",
       "4      Rock  2guirTSEqLizK7j9i1MTTZ          77  \n",
       "..      ...                     ...         ...  \n",
       "91      Pop  0P3oVJBFOv3TDXlYRhGL7s          85  \n",
       "92  Hip Hop  7e7t0MCrNDcJZsPwUKjmOc          81  \n",
       "93      Pop  21jF5jlMtzo94wbxmJ18aa          80  \n",
       "94      Pop  6s84u2TUpR3wdUv4NgKA2j          90  \n",
       "95      Pop  1miTgxRTUje9Jqml1aOSUi          64  \n",
       "\n",
       "[96 rows x 10 columns]"
      ]
     },
     "execution_count": 20,
     "metadata": {},
     "output_type": "execute_result"
    }
   ],
   "source": [
    "albums2"
   ]
  },
  {
   "cell_type": "markdown",
   "metadata": {},
   "source": [
    "# Exporto canciones "
   ]
  },
  {
   "cell_type": "code",
   "execution_count": 21,
   "metadata": {},
   "outputs": [],
   "source": [
    "canciones.to_csv('../database/csv_limpios/canciones.csv', index=False)\n",
    "\n",
    "albums2.to_csv('../database//csv_limpios/albums_completo.csv', index=False)"
   ]
  }
 ],
 "metadata": {
  "kernelspec": {
   "display_name": "base",
   "language": "python",
   "name": "python3"
  },
  "language_info": {
   "codemirror_mode": {
    "name": "ipython",
    "version": 3
   },
   "file_extension": ".py",
   "mimetype": "text/x-python",
   "name": "python",
   "nbconvert_exporter": "python",
   "pygments_lexer": "ipython3",
   "version": "3.10.9"
  }
 },
 "nbformat": 4,
 "nbformat_minor": 2
}
